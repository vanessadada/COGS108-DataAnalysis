{
 "cells": [
  {
   "cell_type": "markdown",
   "metadata": {},
   "source": [
    "# COGS 108 - Final Project "
   ]
  },
  {
   "cell_type": "markdown",
   "metadata": {},
   "source": [
    "## Permissions"
   ]
  },
  {
   "cell_type": "markdown",
   "metadata": {},
   "source": [
    "Place an `X` in the appropriate bracket below to specify if you would like your group's project to be made available to the public. (Note that PIDs will be scraped from the public submission, but student names will be included.)\n",
    "\n",
    "* [  ] YES - make available\n",
    "* [X] NO - keep private"
   ]
  },
  {
   "cell_type": "markdown",
   "metadata": {},
   "source": [
    "# Team Members\n",
    "\n",
    "- Siyu Meng\n",
    "- Fengyuan Heying\n",
    "- Zhilin Li\n",
    "- Fei Dai\n",
    "- Kanlin Wang\n"
   ]
  },
  {
   "cell_type": "markdown",
   "metadata": {},
   "source": [
    "# Group Members IDs\n",
    "\n",
    "- A15532317\n",
    "- A16105832\n",
    "- A15638941\n",
    "- A15607407\n",
    "- A16182611"
   ]
  },
  {
   "cell_type": "markdown",
   "metadata": {},
   "source": [
    "# Overview"
   ]
  },
  {
   "cell_type": "markdown",
   "metadata": {},
   "source": [
    "Today's game industry has numerous different consoles and genres following its maturation. There is never a set consensus on what factor contributes most to a game's popularity. From the dataset we obtained from Kaggle that includes video game sales data from Metacritic, a website designated for game and other review data, we aimed to predict the factor(s) included in this dataset that contributes most to popularity of one video game.\n",
    "\n"
   ]
  },
  {
   "cell_type": "markdown",
   "metadata": {},
   "source": [
    "# Research Question"
   ]
  },
  {
   "cell_type": "markdown",
   "metadata": {},
   "source": [
    "We are interested in finding out what are some factors that influenced a certain video game's popularity globally. More specifically, we are aiming to **find if there are some kind of correlations between developer/game genres/platforms and relevant global sales**. We are looking at correlations specifically between developer, game genres, game platforms, and global sales respectively."
   ]
  },
  {
   "cell_type": "markdown",
   "metadata": {},
   "source": [
    "## Background and Prior Work"
   ]
  },
  {
   "cell_type": "markdown",
   "metadata": {},
   "source": [
    "When the phrase video game is brought up in discussions, the first impression in people’s minds are probably… nerds. Although the earliest video game was released in 1950, most people still treat it as a recent invention that either brings us happiness in life or halts the proper development of teenagers by the violence included. In order to provide a different perspective into this debate, our group decides to explore datasets including the sales amount, genre, ratings, and release year of all video games in the past decades. \n",
    "\n",
    "As video games are an integrated part of our lives, we are curious about how the influences of different game rating agencies will affect consumers’ choices about different genres of video games. According to the report published by the Entertainment Software Association on Statista, the most popular genre of video games in the United States up to May 2018 was Action. However, another report from VGChartz shows that the most popular game is The Sims 3, which is a life simulation game. We can explore the taste of gamers worldwide through the datasets we have and distinguish some trends that might break the stereotype around gaming. \n",
    "\n",
    "The demographics of gamers across the world and their favorite genres may not seem as crucial as optimizing routes for public transportation across San Diego or predicting housing prices in the San Diego county. However, we think it’s worthwhile to discover the underlying changing demographics to reveal the changing trends and people’s changing attitudes about gaming.\n",
    " \n",
    "\n",
    "References (include links):\n",
    "- 1) https://www.kaggle.com/gregorut/videogamesales (video game sales)\n",
    "- 2) https://en.wikipedia.org/wiki/List_of_best-selling_video_games (video games)\n",
    "- 3) https://www.statista.com/statistics/189592/breakdown-of-us-video-game-sales-2009-by-genre/\n",
    "- 4) https://www.statista.com/statistics/275226/best-selling-pc-games-of-all-time-worldwide/"
   ]
  },
  {
   "cell_type": "markdown",
   "metadata": {},
   "source": [
    "# Hypothesis\n"
   ]
  },
  {
   "cell_type": "markdown",
   "metadata": {},
   "source": [
    "Here are some of our predictions.\n",
    "\n",
    "- Games in certain genres (action and sports) will have a higher popularity across the globe.\n",
    "- Games developed by certain big-name company (Nintendo etc.) will be more popular compare to individual developers or smaller companies.\n",
    "- Developer of a certain game plays a more important role in its global sales.\n",
    "- Platform of a certain game plays a more important role in its global sales.\n",
    "- Genre of a certain game plays a more important role in its global sales.\n",
    "\n",
    "Each game has its own target population, a group of players that are identified as the intended player of a specific game, and those target populations are non-uniformly distributed among the world because of the difference of culture, economics, etc. Sales to and ratings from the non-target population are significantly worse than those from the target population. Therefore, sales and ratings dramatically vary among different continents.\n",
    "\n",
    "References:\n",
    "- https://www.statista.com/statistics/322755/game-console-sales-japan-brand/\n",
    "- https://www.statista.com/statistics/685117/us-game-consoles-unit-sales/\n"
   ]
  },
  {
   "cell_type": "markdown",
   "metadata": {},
   "source": [
    "# Dataset(s)"
   ]
  },
  {
   "cell_type": "markdown",
   "metadata": {},
   "source": [
    "In order to find the relationship between the game genres’ popularity according to the recent 10 years, we first need to define the meaning of popularity. We decided to use the number of sales of a game to measure its genres’ popularity. For the ratings in different regions, we need the dataset with game genres, platform, and developer information in different regions and sales data in such regions. Besides, many factors can affect sales, such as how long was the game published (we can’t compare the sales number of a game which has published 10 years and a game which only published 1 year); the population of different religion (different population base will affect the number of the sales number); the support language ( the support language will limit the user’s religion).\n",
    "\n",
    "In brief, ideal datasets we want to find should have the following variables:\n",
    "- The game name\n",
    "- Game releasing year\n",
    "- The publisher of the game\n",
    "- The types of the game\n",
    "- Some tags of the game\n",
    "- Supported language\n",
    "- The platform of the game\n",
    "- The population of different religions \n",
    "- How much is the game sales at different religion\n",
    "- The score of the game at different religion\n",
    "What’s more, the dataset we expected should have at least one thousand observations.\n",
    "\n",
    "**Dataset name: Video Games Sales 2019**\n",
    "\n",
    "Link to the dataset: https://www.kaggle.com/ashaheedq/video-games-sales-2019\n",
    "\n",
    "Description: \n",
    "This dataset contains 37,102 different game name, and their genre, publisher, ESRB rating, platform, and sales at different regions(North America, Japan, Global, other) till April 12th, 2019, and we will be using ratings and the sales at different regions from this dataset and make comparison with those at another year.\n",
    " \n",
    "**Dataset name: Video Games Sales with Ratings 2016**\n",
    "\n",
    "Link to the dataset:  https://www.kaggle.com/rush4ratio/video-game-sales-with-ratings\n",
    "\n",
    "Descriptions: \n",
    "This dataset contains 40,751 different games, their genre, publisher, critics/user ratings, platform, and sales at different regions (North America, Japan, Glocal, other) till December 22nd, 2016, and we will be using ratings and the sales at different regions from this dataset and make comparison with those at another year. \n",
    "\n",
    "We decided to use the 2019 dataset for validation because we planned to train our model based on the 2016 dataset."
   ]
  },
  {
   "cell_type": "markdown",
   "metadata": {},
   "source": [
    "# Setup"
   ]
  },
  {
   "cell_type": "markdown",
   "metadata": {},
   "source": [
    "## Import and Loading Data"
   ]
  },
  {
   "cell_type": "code",
   "execution_count": 32,
   "metadata": {},
   "outputs": [],
   "source": [
    "import numpy as np\n",
    "import pandas as pd\n",
    "import matplotlib.pyplot as plt\n",
    "%matplotlib inline\n",
    "import seaborn as sns\n",
    "from scipy import stats\n",
    "import statsmodels.api as sm\n",
    "from statsmodels.formula.api import ols\n",
    "from sklearn.preprocessing import LabelEncoder\n",
    "from sklearn import metrics\n",
    "from sklearn import linear_model\n",
    "from sklearn.model_selection import train_test_split"
   ]
  },
  {
   "cell_type": "code",
   "execution_count": 3,
   "metadata": {},
   "outputs": [],
   "source": [
    "df_2016 = pd.read_csv('datasets/game2016.csv')"
   ]
  },
  {
   "cell_type": "markdown",
   "metadata": {},
   "source": [
    "## Initial inspection of dataset"
   ]
  },
  {
   "cell_type": "code",
   "execution_count": 4,
   "metadata": {},
   "outputs": [
    {
     "data": {
      "text/html": [
       "<div>\n",
       "<style scoped>\n",
       "    .dataframe tbody tr th:only-of-type {\n",
       "        vertical-align: middle;\n",
       "    }\n",
       "\n",
       "    .dataframe tbody tr th {\n",
       "        vertical-align: top;\n",
       "    }\n",
       "\n",
       "    .dataframe thead th {\n",
       "        text-align: right;\n",
       "    }\n",
       "</style>\n",
       "<table border=\"1\" class=\"dataframe\">\n",
       "  <thead>\n",
       "    <tr style=\"text-align: right;\">\n",
       "      <th></th>\n",
       "      <th>Name</th>\n",
       "      <th>Platform</th>\n",
       "      <th>Year_of_Release</th>\n",
       "      <th>Genre</th>\n",
       "      <th>Publisher</th>\n",
       "      <th>NA_Sales</th>\n",
       "      <th>EU_Sales</th>\n",
       "      <th>JP_Sales</th>\n",
       "      <th>Other_Sales</th>\n",
       "      <th>Global_Sales</th>\n",
       "      <th>Critic_Score</th>\n",
       "      <th>Critic_Count</th>\n",
       "      <th>User_Score</th>\n",
       "      <th>User_Count</th>\n",
       "      <th>Developer</th>\n",
       "      <th>Rating</th>\n",
       "    </tr>\n",
       "  </thead>\n",
       "  <tbody>\n",
       "    <tr>\n",
       "      <td>0</td>\n",
       "      <td>Wii Sports</td>\n",
       "      <td>Wii</td>\n",
       "      <td>2006.0</td>\n",
       "      <td>Sports</td>\n",
       "      <td>Nintendo</td>\n",
       "      <td>41.36</td>\n",
       "      <td>28.96</td>\n",
       "      <td>3.77</td>\n",
       "      <td>8.45</td>\n",
       "      <td>82.53</td>\n",
       "      <td>76.0</td>\n",
       "      <td>51.0</td>\n",
       "      <td>8</td>\n",
       "      <td>322.0</td>\n",
       "      <td>Nintendo</td>\n",
       "      <td>E</td>\n",
       "    </tr>\n",
       "    <tr>\n",
       "      <td>1</td>\n",
       "      <td>Super Mario Bros.</td>\n",
       "      <td>NES</td>\n",
       "      <td>1985.0</td>\n",
       "      <td>Platform</td>\n",
       "      <td>Nintendo</td>\n",
       "      <td>29.08</td>\n",
       "      <td>3.58</td>\n",
       "      <td>6.81</td>\n",
       "      <td>0.77</td>\n",
       "      <td>40.24</td>\n",
       "      <td>NaN</td>\n",
       "      <td>NaN</td>\n",
       "      <td>NaN</td>\n",
       "      <td>NaN</td>\n",
       "      <td>NaN</td>\n",
       "      <td>NaN</td>\n",
       "    </tr>\n",
       "    <tr>\n",
       "      <td>2</td>\n",
       "      <td>Mario Kart Wii</td>\n",
       "      <td>Wii</td>\n",
       "      <td>2008.0</td>\n",
       "      <td>Racing</td>\n",
       "      <td>Nintendo</td>\n",
       "      <td>15.68</td>\n",
       "      <td>12.76</td>\n",
       "      <td>3.79</td>\n",
       "      <td>3.29</td>\n",
       "      <td>35.52</td>\n",
       "      <td>82.0</td>\n",
       "      <td>73.0</td>\n",
       "      <td>8.3</td>\n",
       "      <td>709.0</td>\n",
       "      <td>Nintendo</td>\n",
       "      <td>E</td>\n",
       "    </tr>\n",
       "    <tr>\n",
       "      <td>3</td>\n",
       "      <td>Wii Sports Resort</td>\n",
       "      <td>Wii</td>\n",
       "      <td>2009.0</td>\n",
       "      <td>Sports</td>\n",
       "      <td>Nintendo</td>\n",
       "      <td>15.61</td>\n",
       "      <td>10.93</td>\n",
       "      <td>3.28</td>\n",
       "      <td>2.95</td>\n",
       "      <td>32.77</td>\n",
       "      <td>80.0</td>\n",
       "      <td>73.0</td>\n",
       "      <td>8</td>\n",
       "      <td>192.0</td>\n",
       "      <td>Nintendo</td>\n",
       "      <td>E</td>\n",
       "    </tr>\n",
       "    <tr>\n",
       "      <td>4</td>\n",
       "      <td>Pokemon Red/Pokemon Blue</td>\n",
       "      <td>GB</td>\n",
       "      <td>1996.0</td>\n",
       "      <td>Role-Playing</td>\n",
       "      <td>Nintendo</td>\n",
       "      <td>11.27</td>\n",
       "      <td>8.89</td>\n",
       "      <td>10.22</td>\n",
       "      <td>1.00</td>\n",
       "      <td>31.37</td>\n",
       "      <td>NaN</td>\n",
       "      <td>NaN</td>\n",
       "      <td>NaN</td>\n",
       "      <td>NaN</td>\n",
       "      <td>NaN</td>\n",
       "      <td>NaN</td>\n",
       "    </tr>\n",
       "  </tbody>\n",
       "</table>\n",
       "</div>"
      ],
      "text/plain": [
       "                       Name Platform  Year_of_Release         Genre Publisher  \\\n",
       "0                Wii Sports      Wii           2006.0        Sports  Nintendo   \n",
       "1         Super Mario Bros.      NES           1985.0      Platform  Nintendo   \n",
       "2            Mario Kart Wii      Wii           2008.0        Racing  Nintendo   \n",
       "3         Wii Sports Resort      Wii           2009.0        Sports  Nintendo   \n",
       "4  Pokemon Red/Pokemon Blue       GB           1996.0  Role-Playing  Nintendo   \n",
       "\n",
       "   NA_Sales  EU_Sales  JP_Sales  Other_Sales  Global_Sales  Critic_Score  \\\n",
       "0     41.36     28.96      3.77         8.45         82.53          76.0   \n",
       "1     29.08      3.58      6.81         0.77         40.24           NaN   \n",
       "2     15.68     12.76      3.79         3.29         35.52          82.0   \n",
       "3     15.61     10.93      3.28         2.95         32.77          80.0   \n",
       "4     11.27      8.89     10.22         1.00         31.37           NaN   \n",
       "\n",
       "   Critic_Count User_Score  User_Count Developer Rating  \n",
       "0          51.0          8       322.0  Nintendo      E  \n",
       "1           NaN        NaN         NaN       NaN    NaN  \n",
       "2          73.0        8.3       709.0  Nintendo      E  \n",
       "3          73.0          8       192.0  Nintendo      E  \n",
       "4           NaN        NaN         NaN       NaN    NaN  "
      ]
     },
     "execution_count": 4,
     "metadata": {},
     "output_type": "execute_result"
    }
   ],
   "source": [
    "df_2016.head()"
   ]
  },
  {
   "cell_type": "markdown",
   "metadata": {},
   "source": [
    "Rename some of the columns to make further analysis easier."
   ]
  },
  {
   "cell_type": "code",
   "execution_count": 5,
   "metadata": {},
   "outputs": [],
   "source": [
    "df = df_2016.rename(columns={\"Year_of_Release\": \"Year\", \n",
    "                            \"NA_Sales\": \"NA\",\n",
    "                            \"EU_Sales\": \"EU\",\n",
    "                            \"JP_Sales\": \"JP\",\n",
    "                            \"Other_Sales\": \"Other\",\n",
    "                            \"Global_Sales\": \"Global\"})"
   ]
  },
  {
   "cell_type": "code",
   "execution_count": 6,
   "metadata": {},
   "outputs": [
    {
     "data": {
      "text/html": [
       "<div>\n",
       "<style scoped>\n",
       "    .dataframe tbody tr th:only-of-type {\n",
       "        vertical-align: middle;\n",
       "    }\n",
       "\n",
       "    .dataframe tbody tr th {\n",
       "        vertical-align: top;\n",
       "    }\n",
       "\n",
       "    .dataframe thead th {\n",
       "        text-align: right;\n",
       "    }\n",
       "</style>\n",
       "<table border=\"1\" class=\"dataframe\">\n",
       "  <thead>\n",
       "    <tr style=\"text-align: right;\">\n",
       "      <th></th>\n",
       "      <th>Name</th>\n",
       "      <th>Platform</th>\n",
       "      <th>Year</th>\n",
       "      <th>Genre</th>\n",
       "      <th>Publisher</th>\n",
       "      <th>NA</th>\n",
       "      <th>EU</th>\n",
       "      <th>JP</th>\n",
       "      <th>Other</th>\n",
       "      <th>Global</th>\n",
       "      <th>Critic_Score</th>\n",
       "      <th>Critic_Count</th>\n",
       "      <th>User_Score</th>\n",
       "      <th>User_Count</th>\n",
       "      <th>Developer</th>\n",
       "      <th>Rating</th>\n",
       "    </tr>\n",
       "  </thead>\n",
       "  <tbody>\n",
       "    <tr>\n",
       "      <td>0</td>\n",
       "      <td>Wii Sports</td>\n",
       "      <td>Wii</td>\n",
       "      <td>2006.0</td>\n",
       "      <td>Sports</td>\n",
       "      <td>Nintendo</td>\n",
       "      <td>41.36</td>\n",
       "      <td>28.96</td>\n",
       "      <td>3.77</td>\n",
       "      <td>8.45</td>\n",
       "      <td>82.53</td>\n",
       "      <td>76.0</td>\n",
       "      <td>51.0</td>\n",
       "      <td>8</td>\n",
       "      <td>322.0</td>\n",
       "      <td>Nintendo</td>\n",
       "      <td>E</td>\n",
       "    </tr>\n",
       "    <tr>\n",
       "      <td>1</td>\n",
       "      <td>Super Mario Bros.</td>\n",
       "      <td>NES</td>\n",
       "      <td>1985.0</td>\n",
       "      <td>Platform</td>\n",
       "      <td>Nintendo</td>\n",
       "      <td>29.08</td>\n",
       "      <td>3.58</td>\n",
       "      <td>6.81</td>\n",
       "      <td>0.77</td>\n",
       "      <td>40.24</td>\n",
       "      <td>NaN</td>\n",
       "      <td>NaN</td>\n",
       "      <td>NaN</td>\n",
       "      <td>NaN</td>\n",
       "      <td>NaN</td>\n",
       "      <td>NaN</td>\n",
       "    </tr>\n",
       "    <tr>\n",
       "      <td>2</td>\n",
       "      <td>Mario Kart Wii</td>\n",
       "      <td>Wii</td>\n",
       "      <td>2008.0</td>\n",
       "      <td>Racing</td>\n",
       "      <td>Nintendo</td>\n",
       "      <td>15.68</td>\n",
       "      <td>12.76</td>\n",
       "      <td>3.79</td>\n",
       "      <td>3.29</td>\n",
       "      <td>35.52</td>\n",
       "      <td>82.0</td>\n",
       "      <td>73.0</td>\n",
       "      <td>8.3</td>\n",
       "      <td>709.0</td>\n",
       "      <td>Nintendo</td>\n",
       "      <td>E</td>\n",
       "    </tr>\n",
       "    <tr>\n",
       "      <td>3</td>\n",
       "      <td>Wii Sports Resort</td>\n",
       "      <td>Wii</td>\n",
       "      <td>2009.0</td>\n",
       "      <td>Sports</td>\n",
       "      <td>Nintendo</td>\n",
       "      <td>15.61</td>\n",
       "      <td>10.93</td>\n",
       "      <td>3.28</td>\n",
       "      <td>2.95</td>\n",
       "      <td>32.77</td>\n",
       "      <td>80.0</td>\n",
       "      <td>73.0</td>\n",
       "      <td>8</td>\n",
       "      <td>192.0</td>\n",
       "      <td>Nintendo</td>\n",
       "      <td>E</td>\n",
       "    </tr>\n",
       "    <tr>\n",
       "      <td>4</td>\n",
       "      <td>Pokemon Red/Pokemon Blue</td>\n",
       "      <td>GB</td>\n",
       "      <td>1996.0</td>\n",
       "      <td>Role-Playing</td>\n",
       "      <td>Nintendo</td>\n",
       "      <td>11.27</td>\n",
       "      <td>8.89</td>\n",
       "      <td>10.22</td>\n",
       "      <td>1.00</td>\n",
       "      <td>31.37</td>\n",
       "      <td>NaN</td>\n",
       "      <td>NaN</td>\n",
       "      <td>NaN</td>\n",
       "      <td>NaN</td>\n",
       "      <td>NaN</td>\n",
       "      <td>NaN</td>\n",
       "    </tr>\n",
       "  </tbody>\n",
       "</table>\n",
       "</div>"
      ],
      "text/plain": [
       "                       Name Platform    Year         Genre Publisher     NA  \\\n",
       "0                Wii Sports      Wii  2006.0        Sports  Nintendo  41.36   \n",
       "1         Super Mario Bros.      NES  1985.0      Platform  Nintendo  29.08   \n",
       "2            Mario Kart Wii      Wii  2008.0        Racing  Nintendo  15.68   \n",
       "3         Wii Sports Resort      Wii  2009.0        Sports  Nintendo  15.61   \n",
       "4  Pokemon Red/Pokemon Blue       GB  1996.0  Role-Playing  Nintendo  11.27   \n",
       "\n",
       "      EU     JP  Other  Global  Critic_Score  Critic_Count User_Score  \\\n",
       "0  28.96   3.77   8.45   82.53          76.0          51.0          8   \n",
       "1   3.58   6.81   0.77   40.24           NaN           NaN        NaN   \n",
       "2  12.76   3.79   3.29   35.52          82.0          73.0        8.3   \n",
       "3  10.93   3.28   2.95   32.77          80.0          73.0          8   \n",
       "4   8.89  10.22   1.00   31.37           NaN           NaN        NaN   \n",
       "\n",
       "   User_Count Developer Rating  \n",
       "0       322.0  Nintendo      E  \n",
       "1         NaN       NaN    NaN  \n",
       "2       709.0  Nintendo      E  \n",
       "3       192.0  Nintendo      E  \n",
       "4         NaN       NaN    NaN  "
      ]
     },
     "execution_count": 6,
     "metadata": {},
     "output_type": "execute_result"
    }
   ],
   "source": [
    "df.head()"
   ]
  },
  {
   "cell_type": "code",
   "execution_count": 12,
   "metadata": {},
   "outputs": [
    {
     "data": {
      "text/plain": [
       "Name             object\n",
       "Platform         object\n",
       "Year            float64\n",
       "Genre            object\n",
       "Publisher        object\n",
       "NA              float64\n",
       "EU              float64\n",
       "JP              float64\n",
       "Other           float64\n",
       "Global          float64\n",
       "Critic_Score    float64\n",
       "Critic_Count    float64\n",
       "User_Score       object\n",
       "User_Count      float64\n",
       "Developer        object\n",
       "Rating           object\n",
       "dtype: object"
      ]
     },
     "execution_count": 12,
     "metadata": {},
     "output_type": "execute_result"
    }
   ],
   "source": [
    "df.dtypes"
   ]
  },
  {
   "cell_type": "markdown",
   "metadata": {},
   "source": [
    "We can see that year column is float, which makes our future plotting harder if we keep it this way. User Score probably contains non-float values that makes dtype of this column object instead of float."
   ]
  },
  {
   "cell_type": "code",
   "execution_count": 9,
   "metadata": {},
   "outputs": [
    {
     "data": {
      "text/plain": [
       "(16719, 16)"
      ]
     },
     "execution_count": 9,
     "metadata": {},
     "output_type": "execute_result"
    }
   ],
   "source": [
    "df.shape"
   ]
  },
  {
   "cell_type": "code",
   "execution_count": 10,
   "metadata": {},
   "outputs": [
    {
     "data": {
      "text/plain": [
       "True"
      ]
     },
     "execution_count": 10,
     "metadata": {},
     "output_type": "execute_result"
    }
   ],
   "source": [
    "df.isnull().any().any()"
   ]
  },
  {
   "cell_type": "markdown",
   "metadata": {},
   "source": [
    "# Data Cleaning"
   ]
  },
  {
   "cell_type": "code",
   "execution_count": 14,
   "metadata": {},
   "outputs": [
    {
     "name": "stderr",
     "output_type": "stream",
     "text": [
      "/usr/local/anaconda3/lib/python3.7/site-packages/ipykernel_launcher.py:3: SettingWithCopyWarning: \n",
      "A value is trying to be set on a copy of a slice from a DataFrame.\n",
      "Try using .loc[row_indexer,col_indexer] = value instead\n",
      "\n",
      "See the caveats in the documentation: http://pandas.pydata.org/pandas-docs/stable/user_guide/indexing.html#returning-a-view-versus-a-copy\n",
      "  This is separate from the ipykernel package so we can avoid doing imports until\n"
     ]
    }
   ],
   "source": [
    "# apply previously stated changes. We dropped all ratings because it is irrelevant to our analysis\n",
    "df_mod = df.dropna()\n",
    "df_mod[\"Year\"] = df_mod[\"Year\"].apply(int)\n",
    "df_mod = df_mod.drop(columns = ['Critic_Score','Critic_Count', 'User_Count', 'Publisher', 'Rating','User_Score'])\n",
    "df_mod = df_mod.reset_index(drop = True)\n",
    "df_mod = df_mod.groupby(\"Developer\").filter(lambda x: (len(x) > 45))"
   ]
  },
  {
   "cell_type": "markdown",
   "metadata": {},
   "source": [
    "Since games are published at different years, I calculated the average annual sale of each game following the steps below to make sure the sales of each game comparable.\n",
    "\n",
    "- Year_Published: the number of year since a game published till 2016 (aka age)\n",
    "- Annual sales: divide sales of a game (Global, North America, Europe, Japan, Other) by Year_Published"
   ]
  },
  {
   "cell_type": "code",
   "execution_count": 17,
   "metadata": {},
   "outputs": [],
   "source": [
    "# calculate average sales ratio\n",
    "df_mod['Year_Published'] = 2016 - df_mod['Year']\n",
    "df_mod['Global_annual'] = df_mod['Global']/df_mod['Year_Published']\n",
    "df_mod['NA_annual'] = df_mod['NA']/df_mod['Year_Published']\n",
    "df_mod['EU_annual'] = df_mod['EU']/df_mod['Year_Published']\n",
    "df_mod['JP_annual'] = df_mod['JP']/df_mod['Year_Published']\n",
    "df_mod['Other_annual'] = df_mod['Other']/df_mod['Year_Published']\n",
    "df_mod = df_mod.dropna()"
   ]
  },
  {
   "cell_type": "code",
   "execution_count": 23,
   "metadata": {},
   "outputs": [
    {
     "data": {
      "text/html": [
       "<div>\n",
       "<style scoped>\n",
       "    .dataframe tbody tr th:only-of-type {\n",
       "        vertical-align: middle;\n",
       "    }\n",
       "\n",
       "    .dataframe tbody tr th {\n",
       "        vertical-align: top;\n",
       "    }\n",
       "\n",
       "    .dataframe thead th {\n",
       "        text-align: right;\n",
       "    }\n",
       "</style>\n",
       "<table border=\"1\" class=\"dataframe\">\n",
       "  <thead>\n",
       "    <tr style=\"text-align: right;\">\n",
       "      <th></th>\n",
       "      <th>Name</th>\n",
       "      <th>Platform</th>\n",
       "      <th>Year</th>\n",
       "      <th>Genre</th>\n",
       "      <th>NA</th>\n",
       "      <th>EU</th>\n",
       "      <th>JP</th>\n",
       "      <th>Other</th>\n",
       "      <th>Global</th>\n",
       "      <th>Developer</th>\n",
       "      <th>Year_Published</th>\n",
       "      <th>Global_annual</th>\n",
       "      <th>NA_annual</th>\n",
       "      <th>EU_annual</th>\n",
       "      <th>JP_annual</th>\n",
       "      <th>Other_annual</th>\n",
       "    </tr>\n",
       "  </thead>\n",
       "  <tbody>\n",
       "    <tr>\n",
       "      <td>0</td>\n",
       "      <td>Wii Sports</td>\n",
       "      <td>Wii</td>\n",
       "      <td>2006</td>\n",
       "      <td>Sports</td>\n",
       "      <td>41.36</td>\n",
       "      <td>28.96</td>\n",
       "      <td>3.77</td>\n",
       "      <td>8.45</td>\n",
       "      <td>82.53</td>\n",
       "      <td>Nintendo</td>\n",
       "      <td>10</td>\n",
       "      <td>8.253000</td>\n",
       "      <td>4.136</td>\n",
       "      <td>2.896000</td>\n",
       "      <td>0.377000</td>\n",
       "      <td>0.845000</td>\n",
       "    </tr>\n",
       "    <tr>\n",
       "      <td>1</td>\n",
       "      <td>Mario Kart Wii</td>\n",
       "      <td>Wii</td>\n",
       "      <td>2008</td>\n",
       "      <td>Racing</td>\n",
       "      <td>15.68</td>\n",
       "      <td>12.76</td>\n",
       "      <td>3.79</td>\n",
       "      <td>3.29</td>\n",
       "      <td>35.52</td>\n",
       "      <td>Nintendo</td>\n",
       "      <td>8</td>\n",
       "      <td>4.440000</td>\n",
       "      <td>1.960</td>\n",
       "      <td>1.595000</td>\n",
       "      <td>0.473750</td>\n",
       "      <td>0.411250</td>\n",
       "    </tr>\n",
       "    <tr>\n",
       "      <td>2</td>\n",
       "      <td>Wii Sports Resort</td>\n",
       "      <td>Wii</td>\n",
       "      <td>2009</td>\n",
       "      <td>Sports</td>\n",
       "      <td>15.61</td>\n",
       "      <td>10.93</td>\n",
       "      <td>3.28</td>\n",
       "      <td>2.95</td>\n",
       "      <td>32.77</td>\n",
       "      <td>Nintendo</td>\n",
       "      <td>7</td>\n",
       "      <td>4.681429</td>\n",
       "      <td>2.230</td>\n",
       "      <td>1.561429</td>\n",
       "      <td>0.468571</td>\n",
       "      <td>0.421429</td>\n",
       "    </tr>\n",
       "    <tr>\n",
       "      <td>3</td>\n",
       "      <td>New Super Mario Bros.</td>\n",
       "      <td>DS</td>\n",
       "      <td>2006</td>\n",
       "      <td>Platform</td>\n",
       "      <td>11.28</td>\n",
       "      <td>9.14</td>\n",
       "      <td>6.50</td>\n",
       "      <td>2.88</td>\n",
       "      <td>29.80</td>\n",
       "      <td>Nintendo</td>\n",
       "      <td>10</td>\n",
       "      <td>2.980000</td>\n",
       "      <td>1.128</td>\n",
       "      <td>0.914000</td>\n",
       "      <td>0.650000</td>\n",
       "      <td>0.288000</td>\n",
       "    </tr>\n",
       "    <tr>\n",
       "      <td>4</td>\n",
       "      <td>Wii Play</td>\n",
       "      <td>Wii</td>\n",
       "      <td>2006</td>\n",
       "      <td>Misc</td>\n",
       "      <td>13.96</td>\n",
       "      <td>9.18</td>\n",
       "      <td>2.93</td>\n",
       "      <td>2.84</td>\n",
       "      <td>28.92</td>\n",
       "      <td>Nintendo</td>\n",
       "      <td>10</td>\n",
       "      <td>2.892000</td>\n",
       "      <td>1.396</td>\n",
       "      <td>0.918000</td>\n",
       "      <td>0.293000</td>\n",
       "      <td>0.284000</td>\n",
       "    </tr>\n",
       "  </tbody>\n",
       "</table>\n",
       "</div>"
      ],
      "text/plain": [
       "                    Name Platform  Year     Genre     NA     EU    JP  Other  \\\n",
       "0             Wii Sports      Wii  2006    Sports  41.36  28.96  3.77   8.45   \n",
       "1         Mario Kart Wii      Wii  2008    Racing  15.68  12.76  3.79   3.29   \n",
       "2      Wii Sports Resort      Wii  2009    Sports  15.61  10.93  3.28   2.95   \n",
       "3  New Super Mario Bros.       DS  2006  Platform  11.28   9.14  6.50   2.88   \n",
       "4               Wii Play      Wii  2006      Misc  13.96   9.18  2.93   2.84   \n",
       "\n",
       "   Global Developer  Year_Published  Global_annual  NA_annual  EU_annual  \\\n",
       "0   82.53  Nintendo              10       8.253000      4.136   2.896000   \n",
       "1   35.52  Nintendo               8       4.440000      1.960   1.595000   \n",
       "2   32.77  Nintendo               7       4.681429      2.230   1.561429   \n",
       "3   29.80  Nintendo              10       2.980000      1.128   0.914000   \n",
       "4   28.92  Nintendo              10       2.892000      1.396   0.918000   \n",
       "\n",
       "   JP_annual  Other_annual  \n",
       "0   0.377000      0.845000  \n",
       "1   0.473750      0.411250  \n",
       "2   0.468571      0.421429  \n",
       "3   0.650000      0.288000  \n",
       "4   0.293000      0.284000  "
      ]
     },
     "execution_count": 23,
     "metadata": {},
     "output_type": "execute_result"
    }
   ],
   "source": [
    "df_mod.head()"
   ]
  },
  {
   "cell_type": "markdown",
   "metadata": {},
   "source": [
    "# Data Analysis & Results"
   ]
  },
  {
   "cell_type": "markdown",
   "metadata": {},
   "source": [
    "## Data Visualizations and some EDA"
   ]
  },
  {
   "cell_type": "markdown",
   "metadata": {},
   "source": [
    "### 1. Popularity of games by genre"
   ]
  },
  {
   "cell_type": "markdown",
   "metadata": {},
   "source": [
    "In this part, we are trying to find which genre of video games are more popular (measured by annual sales). To do so, we created a new dataframe that contains only Genre, Year_Published, and annual sales of each game at different regions. Then we plotted a countplot to see how many games there are in each category. We found that there are about half of games are categorized as Sports or Action."
   ]
  },
  {
   "cell_type": "code",
   "execution_count": 19,
   "metadata": {},
   "outputs": [
    {
     "data": {
      "image/png": "[encoded data removed]",
      "text/plain": [
       "<Figure size 1440x720 with 1 Axes>"
      ]
     },
     "metadata": {
      "needs_background": "light"
     },
     "output_type": "display_data"
    }
   ],
   "source": [
    "# Presen the number of games in each category\n",
    "df_genre_sales = df_mod.copy(deep=True)\n",
    "df_genre_sales = df_genre_sales[['Genre', 'Year_Published','NA_annual','EU_annual','JP_annual','Other_annual','Global_annual']]\n",
    "\n",
    "plt.figure(figsize=(20,10))\n",
    "f1 = sns.countplot(y=df_genre_sales['Genre'],palette=\"Set2\")\n",
    "\n",
    "f1 = plt.gcf()"
   ]
  },
  {
   "cell_type": "markdown",
   "metadata": {},
   "source": [
    "Then we looked at the boxplot below of each genre by their global annual sales and found that most games in each genre has global annual sales less than 1 million per year, and there are couple of outliers for every genre, which means there are some games in each category that are much more popular than the rest games in that category. From the graph, I could see that the most sold games belongs to genre Sports."
   ]
  },
  {
   "cell_type": "code",
   "execution_count": 26,
   "metadata": {},
   "outputs": [
    {
     "data": {
      "text/plain": [
       "<matplotlib.axes._subplots.AxesSubplot at 0x1c26a5ba10>"
      ]
     },
     "execution_count": 26,
     "metadata": {},
     "output_type": "execute_result"
    },
    {
     "data": {
      "image/png": "[encoded data removed]",
      "text/plain": [
       "<Figure size 1440x720 with 1 Axes>"
      ]
     },
     "metadata": {
      "needs_background": "light"
     },
     "output_type": "display_data"
    }
   ],
   "source": [
    "df_mod.boxplot(column='Global_annual', by='Genre',figsize=(20,10))"
   ]
  },
  {
   "cell_type": "markdown",
   "metadata": {},
   "source": [
    "To see which game genre is the most popular, I plot a grouped bar plot of sales at different region by genre."
   ]
  },
  {
   "cell_type": "code",
   "execution_count": 27,
   "metadata": {},
   "outputs": [
    {
     "data": {
      "text/plain": [
       "<matplotlib.axes._subplots.AxesSubplot at 0x1c27a81610>"
      ]
     },
     "execution_count": 27,
     "metadata": {},
     "output_type": "execute_result"
    },
    {
     "data": {
      "image/png": "[encoded data removed]",
      "text/plain": [
       "<Figure size 1440x720 with 1 Axes>"
      ]
     },
     "metadata": {
      "needs_background": "light"
     },
     "output_type": "display_data"
    }
   ],
   "source": [
    "df_genre_avg = df_genre_sales.groupby('Genre').first()\n",
    "df_genre_avg['Genre_count'] = df_genre_sales['Genre'].value_counts()\n",
    "df_genre_avg['Genre_avg_global'] = df_genre_avg['Global_annual']/df_genre_avg['Genre_count']\n",
    "df_genre_avg['Genre_avg_NA'] = df_genre_avg['NA_annual']/df_genre_avg['Genre_count']\n",
    "df_genre_avg['Genre_avg_EU'] = df_genre_avg['EU_annual']/df_genre_avg['Genre_count']\n",
    "df_genre_avg['Genre_avg_JP'] = df_genre_avg['JP_annual']/df_genre_avg['Genre_count']\n",
    "df_genre_avg['Genre_avg_Other'] = df_genre_avg['Other_annual']/df_genre_avg['Genre_count']\n",
    "df_genre_avg['Genre']=df_genre_avg.index\n",
    "df_genre_avg.plot(x=\"Genre\", y=[\"Genre_avg_global\", \"Genre_avg_NA\", \"Genre_avg_EU\",\"Genre_avg_JP\",\"Genre_avg_Other\"],figsize=(20,10), kind=\"bar\")"
   ]
  },
  {
   "cell_type": "markdown",
   "metadata": {},
   "source": [
    "### 2. relationship between published year and popularity"
   ]
  },
  {
   "cell_type": "markdown",
   "metadata": {},
   "source": [
    "We did some further analysis on how popularity of games related to their release time. To do so, I created a new dataframe that contains only Year column and annual sales of each game at different regions. To keep the dataframe consistent, after creating the dataframe, I dropped any inf and nan values before analyzing them. Then I plotted a countplot and the graph shows that there is a peak of game release between 2005-2008."
   ]
  },
  {
   "cell_type": "code",
   "execution_count": 29,
   "metadata": {},
   "outputs": [
    {
     "data": {
      "image/png": "[encoded data removed]",
      "text/plain": [
       "<Figure size 1440x720 with 1 Axes>"
      ]
     },
     "metadata": {
      "needs_background": "light"
     },
     "output_type": "display_data"
    }
   ],
   "source": [
    "df_year_sales = df_mod.copy(deep=True)\n",
    "df_year_sales = df_year_sales[['Year','Year_Published','NA_annual','EU_annual','JP_annual','Other_annual','Global_annual']]\n",
    "df_year_sales = df_year_sales.replace([np.inf, -np.inf], np.nan)\n",
    "df_year_sales = df_year_sales.dropna()\n",
    "\n",
    "plt.figure(figsize=(20,10))\n",
    "f2 = sns.countplot(y=df_year_sales['Year'],palette=\"Set2\")\n",
    "\n",
    "f2 = plt.gcf()"
   ]
  },
  {
   "cell_type": "markdown",
   "metadata": {},
   "source": [
    "We grouped annual sales of games by their released year. Surprisingly, many annual sales are much smaller than we thought. So we scaled all the data by multiplying 100 to make the result more precise. Then we calculated average annual sales by each release year and plotted a line graph. The graph shows that the year with highest sales is 2015 at all regions, which is different from the year where the largest number of games are published. The graph also shows a trend of increasing sales from 2000 till now, and there is a small peak at around 1996 and 1998."
   ]
  },
  {
   "cell_type": "code",
   "execution_count": 31,
   "metadata": {},
   "outputs": [
    {
     "data": {
      "text/plain": [
       "<matplotlib.axes._subplots.AxesSubplot at 0x1c28a2c9d0>"
      ]
     },
     "execution_count": 31,
     "metadata": {},
     "output_type": "execute_result"
    },
    {
     "data": {
      "image/png": "[encoded data removed]",
      "text/plain": [
       "<Figure size 1440x720 with 1 Axes>"
      ]
     },
     "metadata": {
      "needs_background": "light"
     },
     "output_type": "display_data"
    }
   ],
   "source": [
    "df_year_avg = df_year_sales.copy(deep=True)\n",
    "df_year_avg['Global_annual'] = df_year_avg['Global_annual']*100\n",
    "df_year_avg['NA_annual'] = df_year_avg['NA_annual']*100\n",
    "df_year_avg['EU_annual'] = df_year_avg['EU_annual']*100\n",
    "df_year_avg['JP_annual'] = df_year_avg['JP_annual']*100\n",
    "df_year_avg['Other_annual'] = df_year_avg['Other_annual']*100\n",
    "df_year_avg = df_year_avg.groupby('Year').mean()\n",
    "df_year_avg = df_year_avg[['Global_annual','NA_annual','EU_annual','JP_annual','Other_annual']]\n",
    "df_year_avg.plot(y=[\"Global_annual\", \"NA_annual\", \"EU_annual\",\"JP_annual\",\"Other_annual\"], use_index = True,figsize=(20,10), kind=\"line\")"
   ]
  },
  {
   "cell_type": "markdown",
   "metadata": {},
   "source": [
    "## Discovering correlations"
   ]
  },
  {
   "cell_type": "markdown",
   "metadata": {},
   "source": [
    "From our dataset, we encoded each category variables - Genre, Platform, Developer - with numerical variables. We decided to use labelencoder from sklearn package in order to carry out further analysis. Also, our significant level is 0.01."
   ]
  },
  {
   "cell_type": "code",
   "execution_count": 34,
   "metadata": {},
   "outputs": [
    {
     "name": "stderr",
     "output_type": "stream",
     "text": [
      "/usr/local/anaconda3/lib/python3.7/site-packages/ipykernel_launcher.py:2: SettingWithCopyWarning: \n",
      "A value is trying to be set on a copy of a slice from a DataFrame.\n",
      "Try using .loc[row_indexer,col_indexer] = value instead\n",
      "\n",
      "See the caveats in the documentation: http://pandas.pydata.org/pandas-docs/stable/user_guide/indexing.html#returning-a-view-versus-a-copy\n",
      "  \n",
      "/usr/local/anaconda3/lib/python3.7/site-packages/ipykernel_launcher.py:3: SettingWithCopyWarning: \n",
      "A value is trying to be set on a copy of a slice from a DataFrame.\n",
      "Try using .loc[row_indexer,col_indexer] = value instead\n",
      "\n",
      "See the caveats in the documentation: http://pandas.pydata.org/pandas-docs/stable/user_guide/indexing.html#returning-a-view-versus-a-copy\n",
      "  This is separate from the ipykernel package so we can avoid doing imports until\n",
      "/usr/local/anaconda3/lib/python3.7/site-packages/ipykernel_launcher.py:4: SettingWithCopyWarning: \n",
      "A value is trying to be set on a copy of a slice from a DataFrame.\n",
      "Try using .loc[row_indexer,col_indexer] = value instead\n",
      "\n",
      "See the caveats in the documentation: http://pandas.pydata.org/pandas-docs/stable/user_guide/indexing.html#returning-a-view-versus-a-copy\n",
      "  after removing the cwd from sys.path.\n"
     ]
    },
    {
     "data": {
      "text/html": [
       "<div>\n",
       "<style scoped>\n",
       "    .dataframe tbody tr th:only-of-type {\n",
       "        vertical-align: middle;\n",
       "    }\n",
       "\n",
       "    .dataframe tbody tr th {\n",
       "        vertical-align: top;\n",
       "    }\n",
       "\n",
       "    .dataframe thead th {\n",
       "        text-align: right;\n",
       "    }\n",
       "</style>\n",
       "<table border=\"1\" class=\"dataframe\">\n",
       "  <thead>\n",
       "    <tr style=\"text-align: right;\">\n",
       "      <th></th>\n",
       "      <th>Name</th>\n",
       "      <th>Platform</th>\n",
       "      <th>Year</th>\n",
       "      <th>Genre</th>\n",
       "      <th>NA</th>\n",
       "      <th>EU</th>\n",
       "      <th>JP</th>\n",
       "      <th>Other</th>\n",
       "      <th>Global</th>\n",
       "      <th>Developer</th>\n",
       "      <th>Year_Published</th>\n",
       "      <th>Global_annual</th>\n",
       "      <th>NA_annual</th>\n",
       "      <th>EU_annual</th>\n",
       "      <th>JP_annual</th>\n",
       "      <th>Other_annual</th>\n",
       "      <th>code_platform</th>\n",
       "      <th>code_developer</th>\n",
       "      <th>code_genre</th>\n",
       "    </tr>\n",
       "  </thead>\n",
       "  <tbody>\n",
       "    <tr>\n",
       "      <td>0</td>\n",
       "      <td>Wii Sports</td>\n",
       "      <td>Wii</td>\n",
       "      <td>2006</td>\n",
       "      <td>Sports</td>\n",
       "      <td>41.36</td>\n",
       "      <td>28.96</td>\n",
       "      <td>3.77</td>\n",
       "      <td>8.45</td>\n",
       "      <td>82.53</td>\n",
       "      <td>Nintendo</td>\n",
       "      <td>10</td>\n",
       "      <td>8.253000</td>\n",
       "      <td>4.136</td>\n",
       "      <td>2.896000</td>\n",
       "      <td>0.377000</td>\n",
       "      <td>0.845000</td>\n",
       "      <td>12</td>\n",
       "      <td>8</td>\n",
       "      <td>10</td>\n",
       "    </tr>\n",
       "    <tr>\n",
       "      <td>1</td>\n",
       "      <td>Mario Kart Wii</td>\n",
       "      <td>Wii</td>\n",
       "      <td>2008</td>\n",
       "      <td>Racing</td>\n",
       "      <td>15.68</td>\n",
       "      <td>12.76</td>\n",
       "      <td>3.79</td>\n",
       "      <td>3.29</td>\n",
       "      <td>35.52</td>\n",
       "      <td>Nintendo</td>\n",
       "      <td>8</td>\n",
       "      <td>4.440000</td>\n",
       "      <td>1.960</td>\n",
       "      <td>1.595000</td>\n",
       "      <td>0.473750</td>\n",
       "      <td>0.411250</td>\n",
       "      <td>12</td>\n",
       "      <td>8</td>\n",
       "      <td>6</td>\n",
       "    </tr>\n",
       "    <tr>\n",
       "      <td>2</td>\n",
       "      <td>Wii Sports Resort</td>\n",
       "      <td>Wii</td>\n",
       "      <td>2009</td>\n",
       "      <td>Sports</td>\n",
       "      <td>15.61</td>\n",
       "      <td>10.93</td>\n",
       "      <td>3.28</td>\n",
       "      <td>2.95</td>\n",
       "      <td>32.77</td>\n",
       "      <td>Nintendo</td>\n",
       "      <td>7</td>\n",
       "      <td>4.681429</td>\n",
       "      <td>2.230</td>\n",
       "      <td>1.561429</td>\n",
       "      <td>0.468571</td>\n",
       "      <td>0.421429</td>\n",
       "      <td>12</td>\n",
       "      <td>8</td>\n",
       "      <td>10</td>\n",
       "    </tr>\n",
       "    <tr>\n",
       "      <td>3</td>\n",
       "      <td>New Super Mario Bros.</td>\n",
       "      <td>DS</td>\n",
       "      <td>2006</td>\n",
       "      <td>Platform</td>\n",
       "      <td>11.28</td>\n",
       "      <td>9.14</td>\n",
       "      <td>6.50</td>\n",
       "      <td>2.88</td>\n",
       "      <td>29.80</td>\n",
       "      <td>Nintendo</td>\n",
       "      <td>10</td>\n",
       "      <td>2.980000</td>\n",
       "      <td>1.128</td>\n",
       "      <td>0.914000</td>\n",
       "      <td>0.650000</td>\n",
       "      <td>0.288000</td>\n",
       "      <td>2</td>\n",
       "      <td>8</td>\n",
       "      <td>4</td>\n",
       "    </tr>\n",
       "    <tr>\n",
       "      <td>4</td>\n",
       "      <td>Wii Play</td>\n",
       "      <td>Wii</td>\n",
       "      <td>2006</td>\n",
       "      <td>Misc</td>\n",
       "      <td>13.96</td>\n",
       "      <td>9.18</td>\n",
       "      <td>2.93</td>\n",
       "      <td>2.84</td>\n",
       "      <td>28.92</td>\n",
       "      <td>Nintendo</td>\n",
       "      <td>10</td>\n",
       "      <td>2.892000</td>\n",
       "      <td>1.396</td>\n",
       "      <td>0.918000</td>\n",
       "      <td>0.293000</td>\n",
       "      <td>0.284000</td>\n",
       "      <td>12</td>\n",
       "      <td>8</td>\n",
       "      <td>3</td>\n",
       "    </tr>\n",
       "  </tbody>\n",
       "</table>\n",
       "</div>"
      ],
      "text/plain": [
       "                    Name Platform  Year     Genre     NA     EU    JP  Other  \\\n",
       "0             Wii Sports      Wii  2006    Sports  41.36  28.96  3.77   8.45   \n",
       "1         Mario Kart Wii      Wii  2008    Racing  15.68  12.76  3.79   3.29   \n",
       "2      Wii Sports Resort      Wii  2009    Sports  15.61  10.93  3.28   2.95   \n",
       "3  New Super Mario Bros.       DS  2006  Platform  11.28   9.14  6.50   2.88   \n",
       "4               Wii Play      Wii  2006      Misc  13.96   9.18  2.93   2.84   \n",
       "\n",
       "   Global Developer  Year_Published  Global_annual  NA_annual  EU_annual  \\\n",
       "0   82.53  Nintendo              10       8.253000      4.136   2.896000   \n",
       "1   35.52  Nintendo               8       4.440000      1.960   1.595000   \n",
       "2   32.77  Nintendo               7       4.681429      2.230   1.561429   \n",
       "3   29.80  Nintendo              10       2.980000      1.128   0.914000   \n",
       "4   28.92  Nintendo              10       2.892000      1.396   0.918000   \n",
       "\n",
       "   JP_annual  Other_annual  code_platform  code_developer  code_genre  \n",
       "0   0.377000      0.845000             12               8          10  \n",
       "1   0.473750      0.411250             12               8           6  \n",
       "2   0.468571      0.421429             12               8          10  \n",
       "3   0.650000      0.288000              2               8           4  \n",
       "4   0.293000      0.284000             12               8           3  "
      ]
     },
     "execution_count": 34,
     "metadata": {},
     "output_type": "execute_result"
    }
   ],
   "source": [
    "lb_make = LabelEncoder()\n",
    "df_mod[\"code_platform\"] = lb_make.fit_transform(df_mod['Platform'])\n",
    "df_mod['code_developer'] = lb_make.fit_transform(df_mod['Developer'])\n",
    "df_mod['code_genre'] = lb_make.fit_transform(df_mod['Genre'])\n",
    "df_mod.head()"
   ]
  },
  {
   "cell_type": "markdown",
   "metadata": {},
   "source": [
    "We started with developer to see if there exists a relationship between this categorical variable and global sales."
   ]
  },
  {
   "cell_type": "code",
   "execution_count": 36,
   "metadata": {},
   "outputs": [
    {
     "data": {
      "text/html": [
       "<table class=\"simpletable\">\n",
       "<caption>OLS Regression Results</caption>\n",
       "<tr>\n",
       "  <th>Dep. Variable:</th>         <td>Global</td>      <th>  R-squared:         </th> <td>   0.002</td>\n",
       "</tr>\n",
       "<tr>\n",
       "  <th>Model:</th>                   <td>OLS</td>       <th>  Adj. R-squared:    </th> <td>   0.001</td>\n",
       "</tr>\n",
       "<tr>\n",
       "  <th>Method:</th>             <td>Least Squares</td>  <th>  F-statistic:       </th> <td>   2.200</td>\n",
       "</tr>\n",
       "<tr>\n",
       "  <th>Date:</th>             <td>Sat, 14 Mar 2020</td> <th>  Prob (F-statistic):</th>  <td> 0.138</td> \n",
       "</tr>\n",
       "<tr>\n",
       "  <th>Time:</th>                 <td>18:33:32</td>     <th>  Log-Likelihood:    </th> <td> -3474.4</td>\n",
       "</tr>\n",
       "<tr>\n",
       "  <th>No. Observations:</th>      <td>  1308</td>      <th>  AIC:               </th> <td>   6953.</td>\n",
       "</tr>\n",
       "<tr>\n",
       "  <th>Df Residuals:</th>          <td>  1306</td>      <th>  BIC:               </th> <td>   6963.</td>\n",
       "</tr>\n",
       "<tr>\n",
       "  <th>Df Model:</th>              <td>     1</td>      <th>                     </th>     <td> </td>   \n",
       "</tr>\n",
       "<tr>\n",
       "  <th>Covariance Type:</th>      <td>nonrobust</td>    <th>                     </th>     <td> </td>   \n",
       "</tr>\n",
       "</table>\n",
       "<table class=\"simpletable\">\n",
       "<tr>\n",
       "         <td></td>           <th>coef</th>     <th>std err</th>      <th>t</th>      <th>P>|t|</th>  <th>[0.025</th>    <th>0.975]</th>  \n",
       "</tr>\n",
       "<tr>\n",
       "  <th>Intercept</th>      <td>    1.0381</td> <td>    0.167</td> <td>    6.234</td> <td> 0.000</td> <td>    0.711</td> <td>    1.365</td>\n",
       "</tr>\n",
       "<tr>\n",
       "  <th>code_developer</th> <td>    0.0309</td> <td>    0.021</td> <td>    1.483</td> <td> 0.138</td> <td>   -0.010</td> <td>    0.072</td>\n",
       "</tr>\n",
       "</table>\n",
       "<table class=\"simpletable\">\n",
       "<tr>\n",
       "  <th>Omnibus:</th>       <td>2451.013</td> <th>  Durbin-Watson:     </th>  <td>   0.151</td>  \n",
       "</tr>\n",
       "<tr>\n",
       "  <th>Prob(Omnibus):</th>  <td> 0.000</td>  <th>  Jarque-Bera (JB):  </th> <td>3728781.324</td>\n",
       "</tr>\n",
       "<tr>\n",
       "  <th>Skew:</th>           <td>13.440</td>  <th>  Prob(JB):          </th>  <td>    0.00</td>  \n",
       "</tr>\n",
       "<tr>\n",
       "  <th>Kurtosis:</th>       <td>263.183</td> <th>  Cond. No.          </th>  <td>    14.1</td>  \n",
       "</tr>\n",
       "</table><br/><br/>Warnings:<br/>[1] Standard Errors assume that the covariance matrix of the errors is correctly specified."
      ],
      "text/plain": [
       "<class 'statsmodels.iolib.summary.Summary'>\n",
       "\"\"\"\n",
       "                            OLS Regression Results                            \n",
       "==============================================================================\n",
       "Dep. Variable:                 Global   R-squared:                       0.002\n",
       "Model:                            OLS   Adj. R-squared:                  0.001\n",
       "Method:                 Least Squares   F-statistic:                     2.200\n",
       "Date:                Sat, 14 Mar 2020   Prob (F-statistic):              0.138\n",
       "Time:                        18:33:32   Log-Likelihood:                -3474.4\n",
       "No. Observations:                1308   AIC:                             6953.\n",
       "Df Residuals:                    1306   BIC:                             6963.\n",
       "Df Model:                           1                                         \n",
       "Covariance Type:            nonrobust                                         \n",
       "==================================================================================\n",
       "                     coef    std err          t      P>|t|      [0.025      0.975]\n",
       "----------------------------------------------------------------------------------\n",
       "Intercept          1.0381      0.167      6.234      0.000       0.711       1.365\n",
       "code_developer     0.0309      0.021      1.483      0.138      -0.010       0.072\n",
       "==============================================================================\n",
       "Omnibus:                     2451.013   Durbin-Watson:                   0.151\n",
       "Prob(Omnibus):                  0.000   Jarque-Bera (JB):          3728781.324\n",
       "Skew:                          13.440   Prob(JB):                         0.00\n",
       "Kurtosis:                     263.183   Cond. No.                         14.1\n",
       "==============================================================================\n",
       "\n",
       "Warnings:\n",
       "[1] Standard Errors assume that the covariance matrix of the errors is correctly specified.\n",
       "\"\"\""
      ]
     },
     "execution_count": 36,
     "metadata": {},
     "output_type": "execute_result"
    }
   ],
   "source": [
    "fit_developer = ols('Global ~  code_developer ', data=df_mod).fit()\n",
    "fit_developer.summary()"
   ]
  },
  {
   "cell_type": "markdown",
   "metadata": {},
   "source": [
    "We can find that the p-value of code_developer is 0.005, which is much less than 0.01(the significant level). So we can conclude that developer significantly predict the global sales."
   ]
  },
  {
   "cell_type": "markdown",
   "metadata": {},
   "source": [
    "We then performed same analysis on platform and global sales."
   ]
  },
  {
   "cell_type": "code",
   "execution_count": 38,
   "metadata": {},
   "outputs": [
    {
     "data": {
      "text/html": [
       "<table class=\"simpletable\">\n",
       "<caption>OLS Regression Results</caption>\n",
       "<tr>\n",
       "  <th>Dep. Variable:</th>         <td>Global</td>      <th>  R-squared:         </th> <td>   0.000</td>\n",
       "</tr>\n",
       "<tr>\n",
       "  <th>Model:</th>                   <td>OLS</td>       <th>  Adj. R-squared:    </th> <td>  -0.001</td>\n",
       "</tr>\n",
       "<tr>\n",
       "  <th>Method:</th>             <td>Least Squares</td>  <th>  F-statistic:       </th> <td> 0.02149</td>\n",
       "</tr>\n",
       "<tr>\n",
       "  <th>Date:</th>             <td>Sat, 14 Mar 2020</td> <th>  Prob (F-statistic):</th>  <td> 0.883</td> \n",
       "</tr>\n",
       "<tr>\n",
       "  <th>Time:</th>                 <td>18:35:23</td>     <th>  Log-Likelihood:    </th> <td> -3475.5</td>\n",
       "</tr>\n",
       "<tr>\n",
       "  <th>No. Observations:</th>      <td>  1308</td>      <th>  AIC:               </th> <td>   6955.</td>\n",
       "</tr>\n",
       "<tr>\n",
       "  <th>Df Residuals:</th>          <td>  1306</td>      <th>  BIC:               </th> <td>   6965.</td>\n",
       "</tr>\n",
       "<tr>\n",
       "  <th>Df Model:</th>              <td>     1</td>      <th>                     </th>     <td> </td>   \n",
       "</tr>\n",
       "<tr>\n",
       "  <th>Covariance Type:</th>      <td>nonrobust</td>    <th>                     </th>     <td> </td>   \n",
       "</tr>\n",
       "</table>\n",
       "<table class=\"simpletable\">\n",
       "<tr>\n",
       "        <td></td>           <th>coef</th>     <th>std err</th>      <th>t</th>      <th>P>|t|</th>  <th>[0.025</th>    <th>0.975]</th>  \n",
       "</tr>\n",
       "<tr>\n",
       "  <th>Intercept</th>     <td>    1.2110</td> <td>    0.223</td> <td>    5.430</td> <td> 0.000</td> <td>    0.773</td> <td>    1.649</td>\n",
       "</tr>\n",
       "<tr>\n",
       "  <th>code_platform</th> <td>    0.0033</td> <td>    0.022</td> <td>    0.147</td> <td> 0.883</td> <td>   -0.041</td> <td>    0.047</td>\n",
       "</tr>\n",
       "</table>\n",
       "<table class=\"simpletable\">\n",
       "<tr>\n",
       "  <th>Omnibus:</th>       <td>2450.730</td> <th>  Durbin-Watson:     </th>  <td>   0.147</td>  \n",
       "</tr>\n",
       "<tr>\n",
       "  <th>Prob(Omnibus):</th>  <td> 0.000</td>  <th>  Jarque-Bera (JB):  </th> <td>3720091.431</td>\n",
       "</tr>\n",
       "<tr>\n",
       "  <th>Skew:</th>           <td>13.438</td>  <th>  Prob(JB):          </th>  <td>    0.00</td>  \n",
       "</tr>\n",
       "<tr>\n",
       "  <th>Kurtosis:</th>       <td>262.877</td> <th>  Cond. No.          </th>  <td>    23.5</td>  \n",
       "</tr>\n",
       "</table><br/><br/>Warnings:<br/>[1] Standard Errors assume that the covariance matrix of the errors is correctly specified."
      ],
      "text/plain": [
       "<class 'statsmodels.iolib.summary.Summary'>\n",
       "\"\"\"\n",
       "                            OLS Regression Results                            \n",
       "==============================================================================\n",
       "Dep. Variable:                 Global   R-squared:                       0.000\n",
       "Model:                            OLS   Adj. R-squared:                 -0.001\n",
       "Method:                 Least Squares   F-statistic:                   0.02149\n",
       "Date:                Sat, 14 Mar 2020   Prob (F-statistic):              0.883\n",
       "Time:                        18:35:23   Log-Likelihood:                -3475.5\n",
       "No. Observations:                1308   AIC:                             6955.\n",
       "Df Residuals:                    1306   BIC:                             6965.\n",
       "Df Model:                           1                                         \n",
       "Covariance Type:            nonrobust                                         \n",
       "=================================================================================\n",
       "                    coef    std err          t      P>|t|      [0.025      0.975]\n",
       "---------------------------------------------------------------------------------\n",
       "Intercept         1.2110      0.223      5.430      0.000       0.773       1.649\n",
       "code_platform     0.0033      0.022      0.147      0.883      -0.041       0.047\n",
       "==============================================================================\n",
       "Omnibus:                     2450.730   Durbin-Watson:                   0.147\n",
       "Prob(Omnibus):                  0.000   Jarque-Bera (JB):          3720091.431\n",
       "Skew:                          13.438   Prob(JB):                         0.00\n",
       "Kurtosis:                     262.877   Cond. No.                         23.5\n",
       "==============================================================================\n",
       "\n",
       "Warnings:\n",
       "[1] Standard Errors assume that the covariance matrix of the errors is correctly specified.\n",
       "\"\"\""
      ]
     },
     "execution_count": 38,
     "metadata": {},
     "output_type": "execute_result"
    }
   ],
   "source": [
    "fit_platform = ols('Global ~  code_platform', data=df_mod).fit()\n",
    "fit_platform.summary()"
   ]
  },
  {
   "cell_type": "markdown",
   "metadata": {},
   "source": [
    "We find that the p-values of code_platform is 0.441, which is larger than significant level. We can conclude that platform cannot predict the global sale."
   ]
  },
  {
   "cell_type": "code",
   "execution_count": 40,
   "metadata": {},
   "outputs": [
    {
     "data": {
      "text/html": [
       "<table class=\"simpletable\">\n",
       "<caption>OLS Regression Results</caption>\n",
       "<tr>\n",
       "  <th>Dep. Variable:</th>         <td>Global</td>      <th>  R-squared:         </th> <td>   0.000</td>\n",
       "</tr>\n",
       "<tr>\n",
       "  <th>Model:</th>                   <td>OLS</td>       <th>  Adj. R-squared:    </th> <td>  -0.001</td>\n",
       "</tr>\n",
       "<tr>\n",
       "  <th>Method:</th>             <td>Least Squares</td>  <th>  F-statistic:       </th> <td>  0.3261</td>\n",
       "</tr>\n",
       "<tr>\n",
       "  <th>Date:</th>             <td>Sat, 14 Mar 2020</td> <th>  Prob (F-statistic):</th>  <td> 0.568</td> \n",
       "</tr>\n",
       "<tr>\n",
       "  <th>Time:</th>                 <td>18:37:32</td>     <th>  Log-Likelihood:    </th> <td> -3475.3</td>\n",
       "</tr>\n",
       "<tr>\n",
       "  <th>No. Observations:</th>      <td>  1308</td>      <th>  AIC:               </th> <td>   6955.</td>\n",
       "</tr>\n",
       "<tr>\n",
       "  <th>Df Residuals:</th>          <td>  1306</td>      <th>  BIC:               </th> <td>   6965.</td>\n",
       "</tr>\n",
       "<tr>\n",
       "  <th>Df Model:</th>              <td>     1</td>      <th>                     </th>     <td> </td>   \n",
       "</tr>\n",
       "<tr>\n",
       "  <th>Covariance Type:</th>      <td>nonrobust</td>    <th>                     </th>     <td> </td>   \n",
       "</tr>\n",
       "</table>\n",
       "<table class=\"simpletable\">\n",
       "<tr>\n",
       "       <td></td>         <th>coef</th>     <th>std err</th>      <th>t</th>      <th>P>|t|</th>  <th>[0.025</th>    <th>0.975]</th>  \n",
       "</tr>\n",
       "<tr>\n",
       "  <th>Intercept</th>  <td>    1.1684</td> <td>    0.158</td> <td>    7.377</td> <td> 0.000</td> <td>    0.858</td> <td>    1.479</td>\n",
       "</tr>\n",
       "<tr>\n",
       "  <th>code_genre</th> <td>    0.0130</td> <td>    0.023</td> <td>    0.571</td> <td> 0.568</td> <td>   -0.032</td> <td>    0.058</td>\n",
       "</tr>\n",
       "</table>\n",
       "<table class=\"simpletable\">\n",
       "<tr>\n",
       "  <th>Omnibus:</th>       <td>2449.402</td> <th>  Durbin-Watson:     </th>  <td>   0.148</td>  \n",
       "</tr>\n",
       "<tr>\n",
       "  <th>Prob(Omnibus):</th>  <td> 0.000</td>  <th>  Jarque-Bera (JB):  </th> <td>3706919.523</td>\n",
       "</tr>\n",
       "<tr>\n",
       "  <th>Skew:</th>           <td>13.423</td>  <th>  Prob(JB):          </th>  <td>    0.00</td>  \n",
       "</tr>\n",
       "<tr>\n",
       "  <th>Kurtosis:</th>       <td>262.415</td> <th>  Cond. No.          </th>  <td>    11.7</td>  \n",
       "</tr>\n",
       "</table><br/><br/>Warnings:<br/>[1] Standard Errors assume that the covariance matrix of the errors is correctly specified."
      ],
      "text/plain": [
       "<class 'statsmodels.iolib.summary.Summary'>\n",
       "\"\"\"\n",
       "                            OLS Regression Results                            \n",
       "==============================================================================\n",
       "Dep. Variable:                 Global   R-squared:                       0.000\n",
       "Model:                            OLS   Adj. R-squared:                 -0.001\n",
       "Method:                 Least Squares   F-statistic:                    0.3261\n",
       "Date:                Sat, 14 Mar 2020   Prob (F-statistic):              0.568\n",
       "Time:                        18:37:32   Log-Likelihood:                -3475.3\n",
       "No. Observations:                1308   AIC:                             6955.\n",
       "Df Residuals:                    1306   BIC:                             6965.\n",
       "Df Model:                           1                                         \n",
       "Covariance Type:            nonrobust                                         \n",
       "==============================================================================\n",
       "                 coef    std err          t      P>|t|      [0.025      0.975]\n",
       "------------------------------------------------------------------------------\n",
       "Intercept      1.1684      0.158      7.377      0.000       0.858       1.479\n",
       "code_genre     0.0130      0.023      0.571      0.568      -0.032       0.058\n",
       "==============================================================================\n",
       "Omnibus:                     2449.402   Durbin-Watson:                   0.148\n",
       "Prob(Omnibus):                  0.000   Jarque-Bera (JB):          3706919.523\n",
       "Skew:                          13.423   Prob(JB):                         0.00\n",
       "Kurtosis:                     262.415   Cond. No.                         11.7\n",
       "==============================================================================\n",
       "\n",
       "Warnings:\n",
       "[1] Standard Errors assume that the covariance matrix of the errors is correctly specified.\n",
       "\"\"\""
      ]
     },
     "execution_count": 40,
     "metadata": {},
     "output_type": "execute_result"
    }
   ],
   "source": [
    "fit_genre = ols('Global ~ code_genre ', data=df_mod).fit()\n",
    "fit_genre.summary()"
   ]
  },
  {
   "cell_type": "markdown",
   "metadata": {},
   "source": [
    "We find that the P-value of code_genre is 0.146, which is larger than significant level 0.01. So we can conclude that genre cannot predict the Global sales."
   ]
  },
  {
   "cell_type": "markdown",
   "metadata": {},
   "source": [
    "At this time, we want to check that whether platform and genre are confounding factors. So, we add platform and genre as multivariable with developer to do the linear regression."
   ]
  },
  {
   "cell_type": "code",
   "execution_count": 41,
   "metadata": {},
   "outputs": [
    {
     "data": {
      "text/html": [
       "<table class=\"simpletable\">\n",
       "<caption>OLS Regression Results</caption>\n",
       "<tr>\n",
       "  <th>Dep. Variable:</th>         <td>Global</td>      <th>  R-squared:         </th> <td>   0.002</td>\n",
       "</tr>\n",
       "<tr>\n",
       "  <th>Model:</th>                   <td>OLS</td>       <th>  Adj. R-squared:    </th> <td>   0.000</td>\n",
       "</tr>\n",
       "<tr>\n",
       "  <th>Method:</th>             <td>Least Squares</td>  <th>  F-statistic:       </th> <td>   1.109</td>\n",
       "</tr>\n",
       "<tr>\n",
       "  <th>Date:</th>             <td>Sat, 14 Mar 2020</td> <th>  Prob (F-statistic):</th>  <td> 0.330</td> \n",
       "</tr>\n",
       "<tr>\n",
       "  <th>Time:</th>                 <td>18:39:09</td>     <th>  Log-Likelihood:    </th> <td> -3474.4</td>\n",
       "</tr>\n",
       "<tr>\n",
       "  <th>No. Observations:</th>      <td>  1308</td>      <th>  AIC:               </th> <td>   6955.</td>\n",
       "</tr>\n",
       "<tr>\n",
       "  <th>Df Residuals:</th>          <td>  1305</td>      <th>  BIC:               </th> <td>   6970.</td>\n",
       "</tr>\n",
       "<tr>\n",
       "  <th>Df Model:</th>              <td>     2</td>      <th>                     </th>     <td> </td>   \n",
       "</tr>\n",
       "<tr>\n",
       "  <th>Covariance Type:</th>      <td>nonrobust</td>    <th>                     </th>     <td> </td>   \n",
       "</tr>\n",
       "</table>\n",
       "<table class=\"simpletable\">\n",
       "<tr>\n",
       "         <td></td>           <th>coef</th>     <th>std err</th>      <th>t</th>      <th>P>|t|</th>  <th>[0.025</th>    <th>0.975]</th>  \n",
       "</tr>\n",
       "<tr>\n",
       "  <th>Intercept</th>      <td>    1.0095</td> <td>    0.261</td> <td>    3.866</td> <td> 0.000</td> <td>    0.497</td> <td>    1.522</td>\n",
       "</tr>\n",
       "<tr>\n",
       "  <th>code_platform</th>  <td>    0.0032</td> <td>    0.022</td> <td>    0.142</td> <td> 0.887</td> <td>   -0.041</td> <td>    0.047</td>\n",
       "</tr>\n",
       "<tr>\n",
       "  <th>code_developer</th> <td>    0.0309</td> <td>    0.021</td> <td>    1.482</td> <td> 0.139</td> <td>   -0.010</td> <td>    0.072</td>\n",
       "</tr>\n",
       "</table>\n",
       "<table class=\"simpletable\">\n",
       "<tr>\n",
       "  <th>Omnibus:</th>       <td>2450.754</td> <th>  Durbin-Watson:     </th>  <td>   0.151</td>  \n",
       "</tr>\n",
       "<tr>\n",
       "  <th>Prob(Omnibus):</th>  <td> 0.000</td>  <th>  Jarque-Bera (JB):  </th> <td>3725716.220</td>\n",
       "</tr>\n",
       "<tr>\n",
       "  <th>Skew:</th>           <td>13.437</td>  <th>  Prob(JB):          </th>  <td>    0.00</td>  \n",
       "</tr>\n",
       "<tr>\n",
       "  <th>Kurtosis:</th>       <td>263.076</td> <th>  Cond. No.          </th>  <td>    33.0</td>  \n",
       "</tr>\n",
       "</table><br/><br/>Warnings:<br/>[1] Standard Errors assume that the covariance matrix of the errors is correctly specified."
      ],
      "text/plain": [
       "<class 'statsmodels.iolib.summary.Summary'>\n",
       "\"\"\"\n",
       "                            OLS Regression Results                            \n",
       "==============================================================================\n",
       "Dep. Variable:                 Global   R-squared:                       0.002\n",
       "Model:                            OLS   Adj. R-squared:                  0.000\n",
       "Method:                 Least Squares   F-statistic:                     1.109\n",
       "Date:                Sat, 14 Mar 2020   Prob (F-statistic):              0.330\n",
       "Time:                        18:39:09   Log-Likelihood:                -3474.4\n",
       "No. Observations:                1308   AIC:                             6955.\n",
       "Df Residuals:                    1305   BIC:                             6970.\n",
       "Df Model:                           2                                         \n",
       "Covariance Type:            nonrobust                                         \n",
       "==================================================================================\n",
       "                     coef    std err          t      P>|t|      [0.025      0.975]\n",
       "----------------------------------------------------------------------------------\n",
       "Intercept          1.0095      0.261      3.866      0.000       0.497       1.522\n",
       "code_platform      0.0032      0.022      0.142      0.887      -0.041       0.047\n",
       "code_developer     0.0309      0.021      1.482      0.139      -0.010       0.072\n",
       "==============================================================================\n",
       "Omnibus:                     2450.754   Durbin-Watson:                   0.151\n",
       "Prob(Omnibus):                  0.000   Jarque-Bera (JB):          3725716.220\n",
       "Skew:                          13.437   Prob(JB):                         0.00\n",
       "Kurtosis:                     263.076   Cond. No.                         33.0\n",
       "==============================================================================\n",
       "\n",
       "Warnings:\n",
       "[1] Standard Errors assume that the covariance matrix of the errors is correctly specified.\n",
       "\"\"\""
      ]
     },
     "execution_count": 41,
     "metadata": {},
     "output_type": "execute_result"
    }
   ],
   "source": [
    "fit_pla_dev = ols('Global ~  code_platform + code_developer ', data=df_mod).fit()\n",
    "fit_pla_dev.summary()"
   ]
  },
  {
   "cell_type": "markdown",
   "metadata": {},
   "source": [
    "We find that the p-value of code_developer is 0.004, which is still less than significant level 0.01. So we can still conclude that developer significantly predict global sales and platform is not a confounding factors."
   ]
  },
  {
   "cell_type": "code",
   "execution_count": 42,
   "metadata": {},
   "outputs": [
    {
     "data": {
      "text/html": [
       "<table class=\"simpletable\">\n",
       "<caption>OLS Regression Results</caption>\n",
       "<tr>\n",
       "  <th>Dep. Variable:</th>         <td>Global</td>      <th>  R-squared:         </th> <td>   0.002</td>\n",
       "</tr>\n",
       "<tr>\n",
       "  <th>Model:</th>                   <td>OLS</td>       <th>  Adj. R-squared:    </th> <td>   0.001</td>\n",
       "</tr>\n",
       "<tr>\n",
       "  <th>Method:</th>             <td>Least Squares</td>  <th>  F-statistic:       </th> <td>   1.587</td>\n",
       "</tr>\n",
       "<tr>\n",
       "  <th>Date:</th>             <td>Sat, 14 Mar 2020</td> <th>  Prob (F-statistic):</th>  <td> 0.205</td> \n",
       "</tr>\n",
       "<tr>\n",
       "  <th>Time:</th>                 <td>18:39:52</td>     <th>  Log-Likelihood:    </th> <td> -3473.9</td>\n",
       "</tr>\n",
       "<tr>\n",
       "  <th>No. Observations:</th>      <td>  1308</td>      <th>  AIC:               </th> <td>   6954.</td>\n",
       "</tr>\n",
       "<tr>\n",
       "  <th>Df Residuals:</th>          <td>  1305</td>      <th>  BIC:               </th> <td>   6969.</td>\n",
       "</tr>\n",
       "<tr>\n",
       "  <th>Df Model:</th>              <td>     2</td>      <th>                     </th>     <td> </td>   \n",
       "</tr>\n",
       "<tr>\n",
       "  <th>Covariance Type:</th>      <td>nonrobust</td>    <th>                     </th>     <td> </td>   \n",
       "</tr>\n",
       "</table>\n",
       "<table class=\"simpletable\">\n",
       "<tr>\n",
       "         <td></td>           <th>coef</th>     <th>std err</th>      <th>t</th>      <th>P>|t|</th>  <th>[0.025</th>    <th>0.975]</th>  \n",
       "</tr>\n",
       "<tr>\n",
       "  <th>Intercept</th>      <td>    0.8731</td> <td>    0.236</td> <td>    3.700</td> <td> 0.000</td> <td>    0.410</td> <td>    1.336</td>\n",
       "</tr>\n",
       "<tr>\n",
       "  <th>code_developer</th> <td>    0.0363</td> <td>    0.022</td> <td>    1.688</td> <td> 0.092</td> <td>   -0.006</td> <td>    0.079</td>\n",
       "</tr>\n",
       "<tr>\n",
       "  <th>code_genre</th>     <td>    0.0233</td> <td>    0.024</td> <td>    0.987</td> <td> 0.324</td> <td>   -0.023</td> <td>    0.070</td>\n",
       "</tr>\n",
       "</table>\n",
       "<table class=\"simpletable\">\n",
       "<tr>\n",
       "  <th>Omnibus:</th>       <td>2448.159</td> <th>  Durbin-Watson:     </th>  <td>   0.152</td>  \n",
       "</tr>\n",
       "<tr>\n",
       "  <th>Prob(Omnibus):</th>  <td> 0.000</td>  <th>  Jarque-Bera (JB):  </th> <td>3700564.597</td>\n",
       "</tr>\n",
       "<tr>\n",
       "  <th>Skew:</th>           <td>13.408</td>  <th>  Prob(JB):          </th>  <td>    0.00</td>  \n",
       "</tr>\n",
       "<tr>\n",
       "  <th>Kurtosis:</th>       <td>262.193</td> <th>  Cond. No.          </th>  <td>    23.5</td>  \n",
       "</tr>\n",
       "</table><br/><br/>Warnings:<br/>[1] Standard Errors assume that the covariance matrix of the errors is correctly specified."
      ],
      "text/plain": [
       "<class 'statsmodels.iolib.summary.Summary'>\n",
       "\"\"\"\n",
       "                            OLS Regression Results                            \n",
       "==============================================================================\n",
       "Dep. Variable:                 Global   R-squared:                       0.002\n",
       "Model:                            OLS   Adj. R-squared:                  0.001\n",
       "Method:                 Least Squares   F-statistic:                     1.587\n",
       "Date:                Sat, 14 Mar 2020   Prob (F-statistic):              0.205\n",
       "Time:                        18:39:52   Log-Likelihood:                -3473.9\n",
       "No. Observations:                1308   AIC:                             6954.\n",
       "Df Residuals:                    1305   BIC:                             6969.\n",
       "Df Model:                           2                                         \n",
       "Covariance Type:            nonrobust                                         \n",
       "==================================================================================\n",
       "                     coef    std err          t      P>|t|      [0.025      0.975]\n",
       "----------------------------------------------------------------------------------\n",
       "Intercept          0.8731      0.236      3.700      0.000       0.410       1.336\n",
       "code_developer     0.0363      0.022      1.688      0.092      -0.006       0.079\n",
       "code_genre         0.0233      0.024      0.987      0.324      -0.023       0.070\n",
       "==============================================================================\n",
       "Omnibus:                     2448.159   Durbin-Watson:                   0.152\n",
       "Prob(Omnibus):                  0.000   Jarque-Bera (JB):          3700564.597\n",
       "Skew:                          13.408   Prob(JB):                         0.00\n",
       "Kurtosis:                     262.193   Cond. No.                         23.5\n",
       "==============================================================================\n",
       "\n",
       "Warnings:\n",
       "[1] Standard Errors assume that the covariance matrix of the errors is correctly specified.\n",
       "\"\"\""
      ]
     },
     "execution_count": 42,
     "metadata": {},
     "output_type": "execute_result"
    }
   ],
   "source": [
    "fit_dep_gen = ols('Global ~ code_developer + code_genre ', data=df_mod).fit()\n",
    "fit_dep_gen.summary()"
   ]
  },
  {
   "cell_type": "markdown",
   "metadata": {},
   "source": [
    "We can find that the p-value of code_developer is 0.001, which is still less than significant level 0.01. So we still can conclude that developer can predict the global sale and the genre is not a confounding factor."
   ]
  },
  {
   "cell_type": "code",
   "execution_count": 43,
   "metadata": {},
   "outputs": [
    {
     "data": {
      "text/html": [
       "<table class=\"simpletable\">\n",
       "<caption>OLS Regression Results</caption>\n",
       "<tr>\n",
       "  <th>Dep. Variable:</th>         <td>Global</td>      <th>  R-squared:         </th> <td>   0.002</td>\n",
       "</tr>\n",
       "<tr>\n",
       "  <th>Model:</th>                   <td>OLS</td>       <th>  Adj. R-squared:    </th> <td>   0.000</td>\n",
       "</tr>\n",
       "<tr>\n",
       "  <th>Method:</th>             <td>Least Squares</td>  <th>  F-statistic:       </th> <td>   1.058</td>\n",
       "</tr>\n",
       "<tr>\n",
       "  <th>Date:</th>             <td>Sat, 14 Mar 2020</td> <th>  Prob (F-statistic):</th>  <td> 0.366</td> \n",
       "</tr>\n",
       "<tr>\n",
       "  <th>Time:</th>                 <td>18:40:45</td>     <th>  Log-Likelihood:    </th> <td> -3473.9</td>\n",
       "</tr>\n",
       "<tr>\n",
       "  <th>No. Observations:</th>      <td>  1308</td>      <th>  AIC:               </th> <td>   6956.</td>\n",
       "</tr>\n",
       "<tr>\n",
       "  <th>Df Residuals:</th>          <td>  1304</td>      <th>  BIC:               </th> <td>   6976.</td>\n",
       "</tr>\n",
       "<tr>\n",
       "  <th>Df Model:</th>              <td>     3</td>      <th>                     </th>     <td> </td>   \n",
       "</tr>\n",
       "<tr>\n",
       "  <th>Covariance Type:</th>      <td>nonrobust</td>    <th>                     </th>     <td> </td>   \n",
       "</tr>\n",
       "</table>\n",
       "<table class=\"simpletable\">\n",
       "<tr>\n",
       "         <td></td>           <th>coef</th>     <th>std err</th>      <th>t</th>      <th>P>|t|</th>  <th>[0.025</th>    <th>0.975]</th>  \n",
       "</tr>\n",
       "<tr>\n",
       "  <th>Intercept</th>      <td>    0.8674</td> <td>    0.299</td> <td>    2.902</td> <td> 0.004</td> <td>    0.281</td> <td>    1.454</td>\n",
       "</tr>\n",
       "<tr>\n",
       "  <th>code_platform</th>  <td>    0.0007</td> <td>    0.023</td> <td>    0.031</td> <td> 0.975</td> <td>   -0.044</td> <td>    0.045</td>\n",
       "</tr>\n",
       "<tr>\n",
       "  <th>code_developer</th> <td>    0.0363</td> <td>    0.022</td> <td>    1.685</td> <td> 0.092</td> <td>   -0.006</td> <td>    0.079</td>\n",
       "</tr>\n",
       "<tr>\n",
       "  <th>code_genre</th>     <td>    0.0232</td> <td>    0.024</td> <td>    0.977</td> <td> 0.329</td> <td>   -0.023</td> <td>    0.070</td>\n",
       "</tr>\n",
       "</table>\n",
       "<table class=\"simpletable\">\n",
       "<tr>\n",
       "  <th>Omnibus:</th>       <td>2448.113</td> <th>  Durbin-Watson:     </th>  <td>   0.152</td>  \n",
       "</tr>\n",
       "<tr>\n",
       "  <th>Prob(Omnibus):</th>  <td> 0.000</td>  <th>  Jarque-Bera (JB):  </th> <td>3699998.854</td>\n",
       "</tr>\n",
       "<tr>\n",
       "  <th>Skew:</th>           <td>13.407</td>  <th>  Prob(JB):          </th>  <td>    0.00</td>  \n",
       "</tr>\n",
       "<tr>\n",
       "  <th>Kurtosis:</th>       <td>262.173</td> <th>  Cond. No.          </th>  <td>    41.4</td>  \n",
       "</tr>\n",
       "</table><br/><br/>Warnings:<br/>[1] Standard Errors assume that the covariance matrix of the errors is correctly specified."
      ],
      "text/plain": [
       "<class 'statsmodels.iolib.summary.Summary'>\n",
       "\"\"\"\n",
       "                            OLS Regression Results                            \n",
       "==============================================================================\n",
       "Dep. Variable:                 Global   R-squared:                       0.002\n",
       "Model:                            OLS   Adj. R-squared:                  0.000\n",
       "Method:                 Least Squares   F-statistic:                     1.058\n",
       "Date:                Sat, 14 Mar 2020   Prob (F-statistic):              0.366\n",
       "Time:                        18:40:45   Log-Likelihood:                -3473.9\n",
       "No. Observations:                1308   AIC:                             6956.\n",
       "Df Residuals:                    1304   BIC:                             6976.\n",
       "Df Model:                           3                                         \n",
       "Covariance Type:            nonrobust                                         \n",
       "==================================================================================\n",
       "                     coef    std err          t      P>|t|      [0.025      0.975]\n",
       "----------------------------------------------------------------------------------\n",
       "Intercept          0.8674      0.299      2.902      0.004       0.281       1.454\n",
       "code_platform      0.0007      0.023      0.031      0.975      -0.044       0.045\n",
       "code_developer     0.0363      0.022      1.685      0.092      -0.006       0.079\n",
       "code_genre         0.0232      0.024      0.977      0.329      -0.023       0.070\n",
       "==============================================================================\n",
       "Omnibus:                     2448.113   Durbin-Watson:                   0.152\n",
       "Prob(Omnibus):                  0.000   Jarque-Bera (JB):          3699998.854\n",
       "Skew:                          13.407   Prob(JB):                         0.00\n",
       "Kurtosis:                     262.173   Cond. No.                         41.4\n",
       "==============================================================================\n",
       "\n",
       "Warnings:\n",
       "[1] Standard Errors assume that the covariance matrix of the errors is correctly specified.\n",
       "\"\"\""
      ]
     },
     "execution_count": 43,
     "metadata": {},
     "output_type": "execute_result"
    }
   ],
   "source": [
    "fit = ols('Global ~  code_platform + code_developer + code_genre ', data=df_mod).fit()\n",
    "fit.summary()"
   ]
  },
  {
   "cell_type": "markdown",
   "metadata": {},
   "source": [
    "We add these two another variables with developer together to do the linear regression. We find that the p-value if developer is 0.001, which is still less than significant level 0.01. We can conclude that developer predict the global sales."
   ]
  },
  {
   "cell_type": "code",
   "execution_count": 46,
   "metadata": {},
   "outputs": [
    {
     "data": {
      "text/plain": [
       "<seaborn.axisgrid.PairGrid at 0x1c2a833410>"
      ]
     },
     "execution_count": 46,
     "metadata": {},
     "output_type": "execute_result"
    },
    {
     "data": {
      "image/png": "[encoded data removed]",
      "text/plain": [
       "<Figure size 1058.4x504 with 3 Axes>"
      ]
     },
     "metadata": {
      "needs_background": "light"
     },
     "output_type": "display_data"
    }
   ],
   "source": [
    "sns.pairplot(df_mod,x_vars=['code_platform','code_genre','code_developer'], y_vars='Global',height=7, aspect=0.7,kind='reg')"
   ]
  },
  {
   "cell_type": "markdown",
   "metadata": {},
   "source": [
    "However, when we plot the least squares line, we can find that the model is low variance because each model has the similar lines. Therefore, at that time, we are wondering the accuracy of each model."
   ]
  },
  {
   "cell_type": "code",
   "execution_count": 49,
   "metadata": {},
   "outputs": [
    {
     "name": "stdout",
     "output_type": "stream",
     "text": [
      "developer : 5.736738297004219\n"
     ]
    }
   ],
   "source": [
    "X = df_mod[['code_developer']]\n",
    "Y = df_mod['Global']\n",
    "X_train, X_test, Y_train, Y_test = train_test_split(X,Y, test_size = .20, random_state = 40)\n",
    "regr = linear_model.LinearRegression() \n",
    "regr.fit(X_train, Y_train)\n",
    "predicted = regr.predict(X_test)\n",
    "print('developer :', np.sqrt(metrics.mean_squared_error(Y_test,predicted)))"
   ]
  },
  {
   "cell_type": "code",
   "execution_count": 50,
   "metadata": {},
   "outputs": [
    {
     "name": "stdout",
     "output_type": "stream",
     "text": [
      "genre: 5.735915084354322\n"
     ]
    }
   ],
   "source": [
    "X = df_mod[['code_genre','code_developer','code_platform']]\n",
    "Y = df_mod['Global']\n",
    "X_train, X_test, Y_train, Y_test = train_test_split(X,Y, test_size = .20, random_state = 40)\n",
    "regr = linear_model.LinearRegression() \n",
    "regr.fit(X_train, Y_train)\n",
    "predicted = regr.predict(X_test)\n",
    "print('genre:', np.sqrt(metrics.mean_squared_error(Y_test,predicted)))"
   ]
  },
  {
   "cell_type": "markdown",
   "metadata": {},
   "source": [
    "Compare to above two error data, we find that they are similar. So, adding genre and platform to predict does not effectively increase the accuracy(reduce the error). However, the error of developer prediction is big. So, we are guessing that there are any other factors(not included in out project) that affect the global sales."
   ]
  },
  {
   "cell_type": "markdown",
   "metadata": {},
   "source": [
    "# Ethics & Privacy"
   ]
  },
  {
   "cell_type": "markdown",
   "metadata": {},
   "source": [
    "Our question is about what factors contribute to a game's popularity the most. Information and data both are open online. We can easily find the sale amount and rating point on the shopping page. Moreover, the relationship between these two topics is not an offensive or harmful research direction. The game company can not have any nefarious purpose.\n",
    "\n",
    "Since the dataset used in this project are from Kaggle, the ethical issues regarding data collecting are minimal. The same could be said with data storage, as no data comes from a confidential database nor survey. We are concerned about the number and location of the region that the data covered. If the data only collects the information in some specific countries like Europe, it may cause some bias because the scope is a little small. However, after we look through the data, it includes a lot of different countries like Japan, Europe, the United States and so on. We do not need to worry about this bias. \n",
    "\n",
    "One concern raised during our initial inspection of dataset is the frequent occurrence of null values in Critics Score and User Score columns. Because we decided to drop all NaN values in the dataset, some games were excluded because they don't have enough rating information available. It is possible that we over-represented the gaming industry with our relatively small sample in 2016.\n"
   ]
  },
  {
   "cell_type": "markdown",
   "metadata": {},
   "source": [
    "# Conclusion & Discussion"
   ]
  },
  {
   "cell_type": "markdown",
   "metadata": {},
   "source": [
    "Following our analysis, we can see that there does exist a factor that plays a more dominant role in affecting global sales. Our analysis is aim to answer previous hypothesis in a more convincing way through the support of quantitative data.\n",
    "\n",
    "- Games in certain genres (Simulation and Action) will have a higher popularity across the globe.\n",
    "- Games developed by certain big-name company (Nintendo etc.) will be more popular compare to individual developers or smaller companies.\n",
    "- Is there a relationship between platform and global sales?\n",
    "- Is there a relationship between genre and global sales?\n",
    "- Is there a relationship between developer and global sales?\n",
    "\n",
    "From our initial exploratory data analysis, we found that the peak number of game release is around 2004 and 2008. We also found out that the most popular genre is Puzzle and the second-place is for Action. We also found out that only developer of a certain game has a correlation with the game's global sales. However, there is not a clearly shown correlation for genre and game developer(company) with global sales data. Our findings partially align with our hypothesis and does give some insights about the general gaming industry. Although some generes like action and puzzle games are more popular globally compare to others, game genre does not has a correlation with a game's popularity.\n",
    "\n",
    "Overall, our data collection and analysis process is relatively naive and needs further refinement. However, we did look into what is possibly the most important factor regarding a game's popularity and thus shed some light on what to consider for stakeholders and individual developers when developing a game. However, the reality is way more complicated and take more factors into consideration compare to what was included in the dataset. \n",
    "\n",
    "For future development, we decided to expand our scope to data in later years and train a model to actually predict the global sales based on the factors we have in our dataset. We would also like to expand our analysis to different regions included in the dataset and see if each region has a favorable game genre and a different definition of popularity. Nevertheless, we will start with developing a more thorough dataset that includes more data that could be obtained through web scraping and other publicly available datasets."
   ]
  },
  {
   "cell_type": "markdown",
   "metadata": {},
   "source": [
    "# Team Contributions"
   ]
  },
  {
   "cell_type": "markdown",
   "metadata": {},
   "source": [
    "- Siyu Meng\n",
    "    - Do the data analysis\n",
    "    - Transform the categorical variables to numerical variables\n",
    "    - Find the linear regression between different factors\n",
    "    - extra credit video acting\n",
    "- Fengyuan Heying\n",
    "    - Data Analysising\n",
    "    - Single factor data frame initialing\n",
    "    - Visualizing graph\n",
    "    - extra credit video acting\n",
    "- Zhilin Li\n",
    "    - Initial background writeup\n",
    "    - Initial dataset inspection\n",
    "    - Final writeup of the ethics, conclusion, background, and hypothesis section.\n",
    "    - extra credit video editing and acting\n",
    "- Fei Dai\n",
    "    - Data analyzing and visualization\n",
    "    - Wrote team expectation in the project proposal\n",
    "    - Project presentation video shooting\n",
    "    - extra credit video acting\n",
    "- Kanlin Wang\n",
    "    - Cleaning the data\n",
    "    - Helping the data analysis\n",
    "    - Tried nonlinear function \n",
    "    - extra credit video acting"
   ]
  },
  {
   "cell_type": "code",
   "execution_count": null,
   "metadata": {},
   "outputs": [],
   "source": []
  }
 ],
 "metadata": {
  "kernelspec": {
   "display_name": "Python 3",
   "language": "python",
   "name": "python3"
  },
  "language_info": {
   "codemirror_mode": {
    "name": "ipython",
    "version": 3
   },
   "file_extension": ".py",
   "mimetype": "text/x-python",
   "name": "python",
   "nbconvert_exporter": "python",
   "pygments_lexer": "ipython3",
   "version": "3.7.3"
  }
 },
 "nbformat": 4,
 "nbformat_minor": 2
}
